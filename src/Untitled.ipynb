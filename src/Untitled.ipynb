{
 "cells": [
  {
   "cell_type": "code",
   "execution_count": 1,
   "id": "cd64ba6f-21c3-415a-874c-f710c89b6b92",
   "metadata": {},
   "outputs": [],
   "source": [
    "from sklearn.model_selection import train_test_split \n",
    "import pandas as pd\n",
    "import numpy as np\n",
    "import matplotlib\n",
    "from matplotlib import pylab as plt\n",
    "import random\n",
    "import math\n",
    "import os"
   ]
  },
  {
   "cell_type": "code",
   "execution_count": 2,
   "id": "46ee8809-5ce7-4839-935e-be4a000eed37",
   "metadata": {},
   "outputs": [
    {
     "data": {
      "text/html": [
       "<div>\n",
       "<style scoped>\n",
       "    .dataframe tbody tr th:only-of-type {\n",
       "        vertical-align: middle;\n",
       "    }\n",
       "\n",
       "    .dataframe tbody tr th {\n",
       "        vertical-align: top;\n",
       "    }\n",
       "\n",
       "    .dataframe thead th {\n",
       "        text-align: right;\n",
       "    }\n",
       "</style>\n",
       "<table border=\"1\" class=\"dataframe\">\n",
       "  <thead>\n",
       "    <tr style=\"text-align: right;\">\n",
       "      <th></th>\n",
       "      <th>Age</th>\n",
       "      <th>Sex</th>\n",
       "      <th>ChestPainType</th>\n",
       "      <th>RestingBP</th>\n",
       "      <th>Cholesterol</th>\n",
       "      <th>FastingBS</th>\n",
       "      <th>RestingECG</th>\n",
       "      <th>MaxHR</th>\n",
       "      <th>ExerciseAngina</th>\n",
       "      <th>Oldpeak</th>\n",
       "      <th>ST_Slope</th>\n",
       "      <th>HeartDisease</th>\n",
       "    </tr>\n",
       "  </thead>\n",
       "  <tbody>\n",
       "    <tr>\n",
       "      <th>0</th>\n",
       "      <td>40</td>\n",
       "      <td>M</td>\n",
       "      <td>ATA</td>\n",
       "      <td>140</td>\n",
       "      <td>289</td>\n",
       "      <td>0</td>\n",
       "      <td>Normal</td>\n",
       "      <td>172</td>\n",
       "      <td>N</td>\n",
       "      <td>0.0</td>\n",
       "      <td>Up</td>\n",
       "      <td>0</td>\n",
       "    </tr>\n",
       "    <tr>\n",
       "      <th>1</th>\n",
       "      <td>49</td>\n",
       "      <td>F</td>\n",
       "      <td>NAP</td>\n",
       "      <td>160</td>\n",
       "      <td>180</td>\n",
       "      <td>0</td>\n",
       "      <td>Normal</td>\n",
       "      <td>156</td>\n",
       "      <td>N</td>\n",
       "      <td>1.0</td>\n",
       "      <td>Flat</td>\n",
       "      <td>1</td>\n",
       "    </tr>\n",
       "    <tr>\n",
       "      <th>2</th>\n",
       "      <td>37</td>\n",
       "      <td>M</td>\n",
       "      <td>ATA</td>\n",
       "      <td>130</td>\n",
       "      <td>283</td>\n",
       "      <td>0</td>\n",
       "      <td>ST</td>\n",
       "      <td>98</td>\n",
       "      <td>N</td>\n",
       "      <td>0.0</td>\n",
       "      <td>Up</td>\n",
       "      <td>0</td>\n",
       "    </tr>\n",
       "    <tr>\n",
       "      <th>3</th>\n",
       "      <td>48</td>\n",
       "      <td>F</td>\n",
       "      <td>ASY</td>\n",
       "      <td>138</td>\n",
       "      <td>214</td>\n",
       "      <td>0</td>\n",
       "      <td>Normal</td>\n",
       "      <td>108</td>\n",
       "      <td>Y</td>\n",
       "      <td>1.5</td>\n",
       "      <td>Flat</td>\n",
       "      <td>1</td>\n",
       "    </tr>\n",
       "    <tr>\n",
       "      <th>4</th>\n",
       "      <td>54</td>\n",
       "      <td>M</td>\n",
       "      <td>NAP</td>\n",
       "      <td>150</td>\n",
       "      <td>195</td>\n",
       "      <td>0</td>\n",
       "      <td>Normal</td>\n",
       "      <td>122</td>\n",
       "      <td>N</td>\n",
       "      <td>0.0</td>\n",
       "      <td>Up</td>\n",
       "      <td>0</td>\n",
       "    </tr>\n",
       "  </tbody>\n",
       "</table>\n",
       "</div>"
      ],
      "text/plain": [
       "   Age Sex ChestPainType  RestingBP  Cholesterol  FastingBS RestingECG  MaxHR  \\\n",
       "0   40   M           ATA        140          289          0     Normal    172   \n",
       "1   49   F           NAP        160          180          0     Normal    156   \n",
       "2   37   M           ATA        130          283          0         ST     98   \n",
       "3   48   F           ASY        138          214          0     Normal    108   \n",
       "4   54   M           NAP        150          195          0     Normal    122   \n",
       "\n",
       "  ExerciseAngina  Oldpeak ST_Slope  HeartDisease  \n",
       "0              N      0.0       Up             0  \n",
       "1              N      1.0     Flat             1  \n",
       "2              N      0.0       Up             0  \n",
       "3              Y      1.5     Flat             1  \n",
       "4              N      0.0       Up             0  "
      ]
     },
     "execution_count": 2,
     "metadata": {},
     "output_type": "execute_result"
    }
   ],
   "source": [
    "df = pd.read_csv(\"../data/heart.csv\")\n",
    "df.head()"
   ]
  },
  {
   "cell_type": "code",
   "execution_count": 18,
   "id": "7eeb7ea1-dbdb-48c1-b41b-751b699c1412",
   "metadata": {},
   "outputs": [],
   "source": [
    "is_categorical = [\"Sex\",\"ChestPainType\",\"FastingBS\",\"RestingECG\",\"ExerciseAngina\",\"ST_Slope\"]\n",
    "is_continuous = [\"Age\",\"RestingBP\",\"Cholesterol\",\"MaxHR\", \"Oldpeak\"]\n",
    "\n",
    "cat_ftrs = [\"Sex\",\"ChestPainType\",\"FastingBS\",\"RestingECG\",\"ExerciseAngina\",\"ST_Slope\"]\n",
    "ordinal_ftrs =[]\n",
    "ordinal_cats = []\n",
    "num_ftrs = [\"Age\",\"RestingBP\",\"Cholesterol\",\"MaxHR\", \"Oldpeak\"]"
   ]
  },
  {
   "cell_type": "code",
   "execution_count": 4,
   "id": "5c8bbfa6-1479-4e36-b952-72ce04ef5a31",
   "metadata": {},
   "outputs": [
    {
     "data": {
      "text/plain": [
       "172"
      ]
     },
     "execution_count": 4,
     "metadata": {},
     "output_type": "execute_result"
    }
   ],
   "source": [
    "len(df[df[\"Cholesterol\"] ==0])\n",
    "# here we see 172 people have cholesterol encoded as 0 which must be a missing value."
   ]
  },
  {
   "cell_type": "code",
   "execution_count": 5,
   "id": "3b324272-75c2-40a9-adbe-f5aa0d6b79a4",
   "metadata": {},
   "outputs": [
    {
     "data": {
      "text/plain": [
       "1"
      ]
     },
     "execution_count": 5,
     "metadata": {},
     "output_type": "execute_result"
    }
   ],
   "source": [
    "len(df[df[\"RestingBP\"] == 0])\n",
    "#and one patient does not have blood pressure. missing data point."
   ]
  },
  {
   "cell_type": "code",
   "execution_count": 6,
   "id": "10c74a93-5b27-4312-bee1-6b03075c3d97",
   "metadata": {},
   "outputs": [],
   "source": [
    "from sklearn.compose import ColumnTransformer\n",
    "from sklearn.pipeline import Pipeline\n",
    "from sklearn.preprocessing import StandardScaler, OneHotEncoder, OrdinalEncoder, MinMaxScaler\n",
    "random_state = 73"
   ]
  },
  {
   "cell_type": "code",
   "execution_count": 20,
   "id": "45ec7649-a17f-470b-8c98-ec57fa0725fb",
   "metadata": {},
   "outputs": [],
   "source": [
    "y = df['HeartDisease'] # assign our attributes and target variable\n",
    "X = df.loc[:, df.columns != 'HeartDisease']"
   ]
  },
  {
   "cell_type": "code",
   "execution_count": 40,
   "id": "09b60f51-99dd-4ef7-992d-7b6d8968d982",
   "metadata": {},
   "outputs": [],
   "source": [
    "#this creates dataframe splits (startingi from scratch due to df drop)\n",
    "df = pd.read_csv(\"../data/heart.csv\") #read in\n",
    "\n",
    "df['Cholesterol'] = df['Cholesterol'].replace(0,np.nan) # replace junk values with nan\n",
    "df['RestingBP'] = df['RestingBP'].replace(0,np.nan)\n",
    "\n",
    "y = df['HeartDisease']\n",
    "df.drop(columns=['HeartDisease'],inplace=True)\n",
    "X = df.values\n",
    "ftrs = df.columns"
   ]
  },
  {
   "cell_type": "code",
   "execution_count": 41,
   "id": "ea058e99-6c7d-4e7a-b351-136850a1f71e",
   "metadata": {},
   "outputs": [
    {
     "name": "stdout",
     "output_type": "stream",
     "text": [
      "138\n",
      "642\n",
      "138\n"
     ]
    }
   ],
   "source": [
    "random_state = 73\n",
    "X_train, X_other, y_train, y_other = train_test_split(df, y, train_size=0.7, random_state=random_state)\n",
    "X_test, X_CV, y_test, y_CV = train_test_split(X_other, y_other, test_size=.5, random_state=random_state)\n",
    "print(len(X_CV))\n",
    "print(len(X_train))\n",
    "print(len(X_test))"
   ]
  },
  {
   "cell_type": "code",
   "execution_count": 42,
   "id": "cc50d94d-f4ae-4835-9ee2-372ed151da4b",
   "metadata": {},
   "outputs": [],
   "source": [
    "from sklearn.compose import ColumnTransformer\n",
    "from sklearn.pipeline import Pipeline\n",
    "from sklearn.preprocessing import OneHotEncoder\n",
    "from sklearn.preprocessing import OrdinalEncoder\n",
    "from sklearn.preprocessing import StandardScaler\n",
    "from sklearn.impute import SimpleImputer\n",
    "\n",
    "# one-hot encoder\n",
    "categorical_transformer = Pipeline(steps=[\n",
    "    ('imputer', SimpleImputer(strategy='constant',fill_value='missing')),\n",
    "    ('onehot', OneHotEncoder(sparse=False,handle_unknown='ignore'))])\n",
    "\n",
    "# ordinal encoder\n",
    "ordinal_transformer = Pipeline(steps=[\n",
    "    ('imputer2', SimpleImputer(strategy='constant',fill_value='NA')),\n",
    "    ('ordinal', OrdinalEncoder(categories = ordinal_cats))])\n",
    "\n",
    "# standard scaler\n",
    "numeric_transformer = Pipeline(steps=[\n",
    "    ('scaler', StandardScaler())])\n",
    "\n",
    "# collect the transformers\n",
    "preprocessor = ColumnTransformer(\n",
    "    transformers=[\n",
    "        ('num', numeric_transformer, num_ftrs),\n",
    "        ('cat', categorical_transformer, cat_ftrs),\n",
    "        ('ord', ordinal_transformer, ordinal_ftrs)])"
   ]
  },
  {
   "cell_type": "code",
   "execution_count": 69,
   "id": "7b52f2c1-f030-4681-a7ca-d4f39ea3841f",
   "metadata": {},
   "outputs": [
    {
     "name": "stdout",
     "output_type": "stream",
     "text": [
      "(642, 21)\n",
      "(138, 21)\n",
      "['Age', 'RestingBP', 'Cholesterol', 'MaxHR', 'Oldpeak', 'Sex_F', 'Sex_M', 'ChestPainType_ASY', 'ChestPainType_ATA', 'ChestPainType_NAP', 'ChestPainType_TA', 'FastingBS_0', 'FastingBS_1', 'RestingECG_LVH', 'RestingECG_Normal', 'RestingECG_ST', 'ExerciseAngina_N', 'ExerciseAngina_Y', 'ST_Slope_Down', 'ST_Slope_Flat', 'ST_Slope_Up']\n"
     ]
    }
   ],
   "source": [
    "# fit_transform the training set\n",
    "X_prep = preprocessor.fit_transform(X_train)\n",
    "# collect feature names\n",
    "feature_names = preprocessor.transformers_[0][-1] + \\\n",
    "                list(preprocessor.named_transformers_['cat'][1].get_feature_names(cat_ftrs)) + \\\n",
    "                preprocessor.transformers_[2][-1]\n",
    "\n",
    "df_train = pd.DataFrame(data=X_prep,columns=feature_names)\n",
    "print(df_train.shape)\n",
    "\n",
    "\n",
    "\n",
    "# transform the CV\n",
    "df_CV = preprocessor.transform(X_CV)\n",
    "df_CV = pd.DataFrame(data=df_CV,columns = feature_names)\n",
    "print(df_CV.shape)\n",
    "\n",
    "# transform the test\n",
    "df_test = preprocessor.transform(X_test)\n",
    "df_test = pd.DataFrame(data=df_test,columns = feature_names)\n",
    "print(feature_names)"
   ]
  },
  {
   "cell_type": "code",
   "execution_count": null,
   "id": "46ca5633-6891-4e00-bf3c-7e329e165042",
   "metadata": {},
   "outputs": [],
   "source": [
    "from sklearn.experimental import enable_iterative_imputer\n",
    "from sklearn.impute import IterativeImputer\n",
    "from sklearn.ensemble import RandomForestRegressor\n",
    "\n",
    "\n",
    "imputer = IterativeImputer(estimator = RandomForestRegressor(n_estimators=10),max_iter=10000, random_state=1000)\n",
    "X_impute = imputer.fit_transform(df_train)\n",
    "df_train_imp = pd.DataFrame(data=X_impute, columns = df_train.columns)\n",
    "\n",
    "\n",
    "df_CV_imp = pd.DataFrame(data=imputer.transform(df_CV), columns = df_train.columns)\n",
    "df_test_imp = pd.DataFrame(data=imputer.transform(df_test), columns = df_train.columns)"
   ]
  },
  {
   "cell_type": "code",
   "execution_count": 58,
   "id": "b42a1854-36c3-4416-806d-f9d56c7fd3ca",
   "metadata": {},
   "outputs": [
    {
     "data": {
      "text/plain": [
       "False"
      ]
     },
     "execution_count": 58,
     "metadata": {},
     "output_type": "execute_result"
    }
   ],
   "source": [
    "np.nan in df_train_imp"
   ]
  },
  {
   "cell_type": "code",
   "execution_count": 61,
   "id": "461f4bf1-5478-447b-91ab-423c601367dc",
   "metadata": {},
   "outputs": [
    {
     "name": "stdout",
     "output_type": "stream",
     "text": [
      "the CV RMSE: 0.2954902023140127\n",
      "the test RMSE: 0.3397674190978847\n",
      "the test R2: 0.5347141743729409\n"
     ]
    }
   ],
   "source": [
    "### XGB using non-imputed\n",
    "\n",
    "import xgboost\n",
    "from sklearn.model_selection import ParameterGrid\n",
    "from sklearn.metrics import mean_squared_error\n",
    "from sklearn.metrics import r2_score\n",
    "\n",
    "param_grid = {\"learning_rate\": [0.03],\n",
    "              \"n_estimators\": [10000],\n",
    "              \"seed\": [0],\n",
    "              #\"reg_alpha\": [0e0, 1e-2, 1e-1, 1e0, 1e1, 1e2],\n",
    "              #\"reg_lambda\": [0e0, 1e-2, 1e-1, 1e0, 1e1, 1e2],\n",
    "              \"missing\": [np.nan], \n",
    "              #\"max_depth\": [1,3,10,30,100],\n",
    "              \"colsample_bytree\": [0.9],              \n",
    "              \"subsample\": [0.66]}\n",
    "\n",
    "XGB = xgboost.XGBRegressor()\n",
    "XGB.set_params(100)\n",
    "XGB.fit(df_train,y_train,early_stopping_rounds=50,eval_set=[(df_CV, y_CV)], verbose=False)\n",
    "y_CV_pred = XGB.predict(df_CV)\n",
    "print('the CV RMSE:',np.sqrt(mean_squared_error(y_CV,y_CV_pred)))\n",
    "y_test_pred = XGB.predict(df_test)\n",
    "print('the test RMSE:',np.sqrt(mean_squared_error(y_test,y_test_pred)))\n",
    "print('the test R2:',r2_score(y_test,y_test_pred))\n"
   ]
  },
  {
   "cell_type": "code",
   "execution_count": 64,
   "id": "2300ed7a-3318-4606-b2a7-ad3e12af0b00",
   "metadata": {},
   "outputs": [
    {
     "name": "stdout",
     "output_type": "stream",
     "text": [
      "the CV RMSE: 0.3029387775454234\n",
      "the test RMSE: 0.3576579341746828\n",
      "the test R2: 0.4844247186474986\n"
     ]
    }
   ],
   "source": [
    "###XGB usign imputed values\n",
    "\n",
    "#yeah xgb does indeed turn out to be better here\n",
    "XGB.fit(df_train_imp,y_train,early_stopping_rounds=50,eval_set=[(df_CV_imp, y_CV)], verbose=False)\n",
    "y_CV_pred = XGB.predict(df_CV_imp)\n",
    "print('the CV RMSE:',np.sqrt(mean_squared_error(y_CV,y_CV_pred)))\n",
    "y_test_pred = XGB.predict(df_test_imp)\n",
    "print('the test RMSE:',np.sqrt(mean_squared_error(y_test,y_test_pred)))\n",
    "print('the test R2:',r2_score(y_test,y_test_pred))"
   ]
  },
  {
   "cell_type": "code",
   "execution_count": 66,
   "id": "64e603b9-e02b-4247-86da-e3db5e086f92",
   "metadata": {},
   "outputs": [
    {
     "data": {
      "text/html": [
       "<div>\n",
       "<style scoped>\n",
       "    .dataframe tbody tr th:only-of-type {\n",
       "        vertical-align: middle;\n",
       "    }\n",
       "\n",
       "    .dataframe tbody tr th {\n",
       "        vertical-align: top;\n",
       "    }\n",
       "\n",
       "    .dataframe thead th {\n",
       "        text-align: right;\n",
       "    }\n",
       "</style>\n",
       "<table border=\"1\" class=\"dataframe\">\n",
       "  <thead>\n",
       "    <tr style=\"text-align: right;\">\n",
       "      <th></th>\n",
       "      <th>Age</th>\n",
       "      <th>RestingBP</th>\n",
       "      <th>Cholesterol</th>\n",
       "      <th>FastingBS</th>\n",
       "      <th>MaxHR</th>\n",
       "      <th>Oldpeak</th>\n",
       "    </tr>\n",
       "  </thead>\n",
       "  <tbody>\n",
       "    <tr>\n",
       "      <th>Age</th>\n",
       "      <td>1.000000</td>\n",
       "      <td>0.263084</td>\n",
       "      <td>0.058758</td>\n",
       "      <td>0.198039</td>\n",
       "      <td>-0.382045</td>\n",
       "      <td>0.258612</td>\n",
       "    </tr>\n",
       "    <tr>\n",
       "      <th>RestingBP</th>\n",
       "      <td>0.263084</td>\n",
       "      <td>1.000000</td>\n",
       "      <td>0.095939</td>\n",
       "      <td>0.067823</td>\n",
       "      <td>-0.109693</td>\n",
       "      <td>0.174252</td>\n",
       "    </tr>\n",
       "    <tr>\n",
       "      <th>Cholesterol</th>\n",
       "      <td>0.058758</td>\n",
       "      <td>0.095939</td>\n",
       "      <td>1.000000</td>\n",
       "      <td>0.054012</td>\n",
       "      <td>-0.019856</td>\n",
       "      <td>0.058488</td>\n",
       "    </tr>\n",
       "    <tr>\n",
       "      <th>FastingBS</th>\n",
       "      <td>0.198039</td>\n",
       "      <td>0.067823</td>\n",
       "      <td>0.054012</td>\n",
       "      <td>1.000000</td>\n",
       "      <td>-0.131438</td>\n",
       "      <td>0.052698</td>\n",
       "    </tr>\n",
       "    <tr>\n",
       "      <th>MaxHR</th>\n",
       "      <td>-0.382045</td>\n",
       "      <td>-0.109693</td>\n",
       "      <td>-0.019856</td>\n",
       "      <td>-0.131438</td>\n",
       "      <td>1.000000</td>\n",
       "      <td>-0.160691</td>\n",
       "    </tr>\n",
       "    <tr>\n",
       "      <th>Oldpeak</th>\n",
       "      <td>0.258612</td>\n",
       "      <td>0.174252</td>\n",
       "      <td>0.058488</td>\n",
       "      <td>0.052698</td>\n",
       "      <td>-0.160691</td>\n",
       "      <td>1.000000</td>\n",
       "    </tr>\n",
       "  </tbody>\n",
       "</table>\n",
       "</div>"
      ],
      "text/plain": [
       "                  Age  RestingBP  Cholesterol  FastingBS     MaxHR   Oldpeak\n",
       "Age          1.000000   0.263084     0.058758   0.198039 -0.382045  0.258612\n",
       "RestingBP    0.263084   1.000000     0.095939   0.067823 -0.109693  0.174252\n",
       "Cholesterol  0.058758   0.095939     1.000000   0.054012 -0.019856  0.058488\n",
       "FastingBS    0.198039   0.067823     0.054012   1.000000 -0.131438  0.052698\n",
       "MaxHR       -0.382045  -0.109693    -0.019856  -0.131438  1.000000 -0.160691\n",
       "Oldpeak      0.258612   0.174252     0.058488   0.052698 -0.160691  1.000000"
      ]
     },
     "execution_count": 66,
     "metadata": {},
     "output_type": "execute_result"
    }
   ],
   "source": [
    "df.corr()"
   ]
  },
  {
   "cell_type": "markdown",
   "id": "d375feb2-df7a-415c-9a59-a5736754b45a",
   "metadata": {},
   "source": [
    "\n",
    "contains NaN:\n",
    "df_train\n",
    "df_CV\n",
    "df_test\n",
    "\n",
    "does not contain NaN:\n",
    "df_train_imp   // y_train\n",
    "df_test_imp    // y_test\n",
    "df_CV_imp      // y_CV\n",
    "\n"
   ]
  },
  {
   "cell_type": "code",
   "execution_count": null,
   "id": "ce461382-24fa-443f-88c0-6ae1ff90af07",
   "metadata": {},
   "outputs": [],
   "source": [
    "from sklearn.neighbors import KNeighborsClassifier\n",
    "KNN_val_scores= []\n",
    "KNN_train_scores =[]\n",
    "best_score = 100\n",
    "best_n = 0\n",
    "for i in range(1,40):\n",
    "    KNN = KNeighborsClassifier(n_neighbors = i)\n",
    "    KNN.fit(df_train_imp,y_train)\n",
    "    pred_i = KNN.predict(df_CV_imp)\n",
    "    val_score = np.mean(pred_i != y_CV)\n",
    "    \n",
    "    pred_i = KNN.predict(df_train_imp)\n",
    "    train_score = np.mean(pred_i != y_train)\n",
    "    if score < best_score:\n",
    "        best_n = i\n",
    "        best_score = score\n",
    "    KNN_val_scores.append(val_score) #maybe better score?\n",
    "    KNN_train_scores.append(train_score)\n",
    "    "
   ]
  },
  {
   "cell_type": "code",
   "execution_count": null,
   "id": "84375ee8-1a5e-45bb-83f8-b218a6afa0d4",
   "metadata": {},
   "outputs": [],
   "source": [
    "plt.plot(range(1,40),KNN_val_scores,label = \"val score\")\n",
    "plt.plot(range(1,40),KNN_train_scores,lable = \"train score\")\n",
    "plt.plot(best_n, best_score, \"o\", color = \"red\",label = f\"best n val = {best_n}\")\n",
    "plt.legend()\n",
    "plt.show()"
   ]
  },
  {
   "cell_type": "code",
   "execution_count": 92,
   "id": "ac15f6a9-d12f-4022-8a01-369593b3d373",
   "metadata": {},
   "outputs": [
    {
     "name": "stdout",
     "output_type": "stream",
     "text": [
      "0.14492753623188406\n"
     ]
    }
   ],
   "source": [
    "KNN = KNeighborsClassifier(n_neighbors = 13)\n",
    "KNN.fit(df_train_imp,y_train)\n",
    "prediction = KNN.predict(df_test_imp)\n",
    "print(np.mean(prediction != y_test))"
   ]
  },
  {
   "cell_type": "code",
   "execution_count": null,
   "id": "ae26f1ce-0cdc-46fa-bd59-8a9798727f70",
   "metadata": {},
   "outputs": [],
   "source": [
    "from sklearn.ensemble import RandomForestClassifier\n",
    "\n",
    "val_scores = []\n",
    "train_scores =[]\n",
    "best_score = 100\n",
    "best_n = 0\n",
    "for n in range(1,150):\n",
    "    forest= RandomForestClassifier(n_estimators =n, random_state = 0)\n",
    "    forest.fit(df_train_imp, y_train)\n",
    "    val_prediction = forest.predict(df_CV_imp)\n",
    "    train_prediction = forest.predict(df_train_imp)\n",
    "    val_score = np.mean(val_prediction != y_CV)\n",
    "    train_score = np.mean(train_prediction != y_train)\n",
    "    train_scores.append(train_score)\n",
    "    val_scores.append(val_score)\n",
    "    if val_score < best_score:\n",
    "        best_score = val_score\n",
    "        best_n = n"
   ]
  },
  {
   "cell_type": "code",
   "execution_count": null,
   "id": "3712fe68-88e0-427f-abd3-9942e3142186",
   "metadata": {},
   "outputs": [],
   "source": [
    "plt.plot(range(1,150), val_scores, label= \"val score\")\n",
    "plt.plot(best_n, best_score, \"o\", color = \"red\", label = f\"best n = {best_n}\")\n",
    "plt.plot(range(1,150),train_scores, label = \"train score\")\n",
    "plt.legend()\n",
    "plt.show()"
   ]
  },
  {
   "cell_type": "code",
   "execution_count": 103,
   "id": "bc5592de-8c41-42a0-8f5f-7d9a9663bcb4",
   "metadata": {},
   "outputs": [
    {
     "name": "stdout",
     "output_type": "stream",
     "text": [
      "0.13768115942028986\n"
     ]
    }
   ],
   "source": [
    "forest= RandomForestClassifier(n_estimators =best_n, random_state = 0)\n",
    "forest.fit(df_train_imp, y_train)\n",
    "prediction = forest.predict(df_test_imp)\n",
    "score = np.mean(prediction != y_test)\n",
    "print(score)"
   ]
  },
  {
   "cell_type": "code",
   "execution_count": null,
   "id": "dd7b9fc5-0f8a-4fa0-b8f3-93a82625879f",
   "metadata": {},
   "outputs": [],
   "source": []
  },
  {
   "cell_type": "code",
   "execution_count": null,
   "id": "80b81324-7786-4578-af3c-c4436a243981",
   "metadata": {},
   "outputs": [],
   "source": [
    "from sklearn.svm import SVR\n",
    "param_grid = {'svr__kernel' : ('linear', 'poly', 'rbf', 'sigmoid'),'svr__C' : [1,5,10],'svr__degree' : [3,8],'svr__coef0' : [0.01,10,0.5],'svr__gamma' : ('auto','scale')}\n"
   ]
  }
 ],
 "metadata": {
  "kernelspec": {
   "display_name": "Python 3 (ipykernel)",
   "language": "python",
   "name": "python3"
  },
  "language_info": {
   "codemirror_mode": {
    "name": "ipython",
    "version": 3
   },
   "file_extension": ".py",
   "mimetype": "text/x-python",
   "name": "python",
   "nbconvert_exporter": "python",
   "pygments_lexer": "ipython3",
   "version": "3.9.7"
  }
 },
 "nbformat": 4,
 "nbformat_minor": 5
}
